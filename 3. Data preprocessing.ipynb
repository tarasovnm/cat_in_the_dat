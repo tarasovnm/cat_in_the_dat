{
 "cells": [
  {
   "cell_type": "code",
   "execution_count": 1,
   "metadata": {},
   "outputs": [],
   "source": [
    "import numpy as np\n",
    "import pandas as pd\n",
    "from sklearn import pipeline, preprocessing\n",
    "from sklearn.pipeline import Pipeline, make_pipeline\n",
    "\n",
    "from df_transformers import *"
   ]
  },
  {
   "cell_type": "code",
   "execution_count": 2,
   "metadata": {
    "scrolled": true
   },
   "outputs": [
    {
     "name": "stdout",
     "output_type": "stream",
     "text": [
      "Shape of train data: (600000, 24). Shape of test data: (400000, 23)\n"
     ]
    }
   ],
   "source": [
    "train_data = pd.read_csv(\"data/cleaned_train_data.csv\", index_col=\"id\")\n",
    "test_data = pd.read_csv(\"data/cleaned_test_data.csv\", index_col=\"id\")\n",
    "print(f\"Shape of train data: {train_data.shape}. Shape of test data: {test_data.shape}\")\n",
    "train_size = train_data.shape[0]"
   ]
  },
  {
   "cell_type": "code",
   "execution_count": 3,
   "metadata": {},
   "outputs": [],
   "source": [
    "# Объединим датасеты для обработки\n",
    "data = pd.concat([train_data.drop(['target'], axis=1), test_data])\n",
    "y = train_data['target']"
   ]
  },
  {
   "cell_type": "markdown",
   "metadata": {},
   "source": [
    "### Разделяем признаки по типу"
   ]
  },
  {
   "cell_type": "code",
   "execution_count": 4,
   "metadata": {},
   "outputs": [],
   "source": [
    "# Бинарные\n",
    "bin_features = ['bin_0', 'bin_1', 'bin_2', 'bin_3', 'bin_4']\n",
    "# Категориальные\n",
    "nom_features = ['nom_0', 'nom_1', 'nom_2', 'nom_3', 'nom_4']\n",
    "# Хеш\n",
    "hex_features = ['nom_5', 'nom_6', 'nom_7', 'nom_8', 'nom_9']\n",
    "# Порядковые\n",
    "ord_features = ['ord_0', 'ord_1', 'ord_2', 'ord_3', 'ord_4', 'ord_5']\n",
    "ord_features_low_cardinality = ['ord_0', 'ord_1', 'ord_2']\n",
    "ord_features_high_cardinality = ['ord_3', 'ord_4', 'ord_5']\n",
    "# Цикличные\n",
    "cyc_features = ['day', 'month']"
   ]
  },
  {
   "cell_type": "markdown",
   "metadata": {},
   "source": [
    "### Собираем пайплайн"
   ]
  },
  {
   "cell_type": "code",
   "execution_count": 12,
   "metadata": {},
   "outputs": [],
   "source": [
    "# Обработка бинарных признаков\n",
    "bin_dict = {'T':1, 'F':0, 'Y':1, 'N':0}\n",
    "bin_pipeline = make_pipeline(\n",
    "    SelectColumnsTransformer(bin_features),\n",
    "    BinaryColumnsTransformer(bin_dict = bin_dict),\n",
    ")\n",
    "\n",
    "# Обработка категориальных признаков с малым количеством категорий\n",
    "nom_pipeline = make_pipeline(\n",
    "    SelectColumnsTransformer(nom_features),\n",
    "    DataFrameFunctionTransformer(lambda x: x.apply(str)),\n",
    "    # Разобраться что за тип данных category в pd.DataFrame и что такое object_levels\n",
    "    # DataFrameFunctionTransformer(lambda x:x.astype('category', categories=object_levels)),\n",
    "    ToDummiesTransformer(),\n",
    "    DropAllZeroTrainColumnsTransformer(),\n",
    ")\n",
    "\n",
    "# Обработка категориальных признаков с большим количеством категорий\n",
    "hex_pipeline = make_pipeline(\n",
    "    SelectColumnsTransformer(hex_features),\n",
    "    DataFrameFunctionTransformer(lambda x: x.apply(str)),\n",
    "    LabelTransformer(),\n",
    ")\n",
    "\n",
    "# Обработка порядковых признаков небольшим количеством категорий\n",
    "# Возможно, для большей гибкости, необходимо заменить списки в списке на словари\n",
    "ord_order = [\n",
    "    [1.0, 2.0, 3.0],\n",
    "    ['Novice', 'Contributor', 'Expert', 'Master', 'Grandmaster'],\n",
    "    ['Freezing', 'Cold', 'Warm', 'Hot', 'Boiling Hot', 'Lava Hot']\n",
    "]\n",
    "\n",
    "ord_pipeline_low = make_pipeline(\n",
    "    SelectColumnsTransformer(ord_features_low_cardinality),\n",
    "    OrderedColumnsTransformer(order_list = ord_order),\n",
    ")\n",
    "\n",
    "# Обработка порядковых признаков большим количеством категорий\n",
    "ord_pipeline_high = make_pipeline(\n",
    "    SelectColumnsTransformer(ord_features_high_cardinality),\n",
    "    OrderedColumnsTransformer(),\n",
    ")\n",
    "\n",
    "# Обработка цикличных признаков\n",
    "cyc_pipeline = make_pipeline(\n",
    "    SelectColumnsTransformer(cyc_features),\n",
    ")\n",
    "\n",
    "# Обединяем обработанные данные\n",
    "preprocessing_features = DataFrameFeatureUnion([bin_pipeline, \n",
    "                                                nom_pipeline, \n",
    "                                                hex_pipeline, \n",
    "                                                ord_pipeline_low, \n",
    "                                                ord_pipeline_high, \n",
    "                                                cyc_pipeline])"
   ]
  },
  {
   "cell_type": "code",
   "execution_count": 13,
   "metadata": {},
   "outputs": [],
   "source": [
    "prprd_data = preprocessing_features.fit_transform(data)"
   ]
  },
  {
   "cell_type": "code",
   "execution_count": 14,
   "metadata": {},
   "outputs": [],
   "source": [
    "preprocessed_train_data = prprd_data.iloc[:train_size, :]\n",
    "preprocessed_test_data = prprd_data.iloc[train_size:, :]"
   ]
  },
  {
   "cell_type": "code",
   "execution_count": 15,
   "metadata": {
    "scrolled": true
   },
   "outputs": [
    {
     "name": "stderr",
     "output_type": "stream",
     "text": [
      "/Users/tarasovnm/anaconda3/lib/python3.7/site-packages/ipykernel_launcher.py:1: SettingWithCopyWarning: \n",
      "A value is trying to be set on a copy of a slice from a DataFrame.\n",
      "Try using .loc[row_indexer,col_indexer] = value instead\n",
      "\n",
      "See the caveats in the documentation: http://pandas.pydata.org/pandas-docs/stable/indexing.html#indexing-view-versus-copy\n",
      "  \"\"\"Entry point for launching an IPython kernel.\n"
     ]
    }
   ],
   "source": [
    "preprocessed_train_data['target'] = y"
   ]
  },
  {
   "cell_type": "markdown",
   "metadata": {},
   "source": [
    "### Обрабатываем и сохраняем данные"
   ]
  },
  {
   "cell_type": "code",
   "execution_count": 16,
   "metadata": {},
   "outputs": [],
   "source": [
    "preprocessed_train_data.to_csv('data/preprocessed_train_data.csv', header=True)\n",
    "preprocessed_test_data.to_csv('data/preprocessed_test_data.csv', header=True)"
   ]
  },
  {
   "cell_type": "code",
   "execution_count": null,
   "metadata": {},
   "outputs": [],
   "source": []
  },
  {
   "cell_type": "code",
   "execution_count": null,
   "metadata": {},
   "outputs": [],
   "source": []
  },
  {
   "cell_type": "code",
   "execution_count": 18,
   "metadata": {},
   "outputs": [],
   "source": [
    "# Избранные ноутбуки из предыдущего соревнования\n",
    "# https://www.kaggle.com/shahules/an-overview-of-encoding-techniques\n",
    "# https://www.kaggle.com/kabure/eda-feat-engineering-encode-conquer\n",
    "# https://www.kaggle.com/adaubas/2nd-place-solution-categorical-fe-callenge\n",
    "# https://www.kaggle.com/abhishek/entity-embeddings-to-handle-categories\n",
    "# https://www.kaggle.com/peterhurford/why-not-logistic-regression\n",
    "\n",
    "# Посмотреть по текущему соревнованию\n",
    "# https://www.kaggle.com/drcapa/categorical-feature-engineering-2-xgb\n",
    "# https://www.kaggle.com/vikassingh1996/don-t-underestimate-the-power-of-a-logistic-reg\n",
    "\n",
    "# https://habr.com/ru/company/ods/blog/326418/#label-encoding"
   ]
  }
 ],
 "metadata": {
  "kernelspec": {
   "display_name": "Python 3",
   "language": "python",
   "name": "python3"
  },
  "language_info": {
   "codemirror_mode": {
    "name": "ipython",
    "version": 3
   },
   "file_extension": ".py",
   "mimetype": "text/x-python",
   "name": "python",
   "nbconvert_exporter": "python",
   "pygments_lexer": "ipython3",
   "version": "3.7.3"
  }
 },
 "nbformat": 4,
 "nbformat_minor": 2
}
