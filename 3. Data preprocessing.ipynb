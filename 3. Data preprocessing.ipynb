{
 "cells": [
  {
   "cell_type": "code",
   "execution_count": 26,
   "metadata": {},
   "outputs": [],
   "source": [
    "import numpy as np\n",
    "import pandas as pd\n",
    "from sklearn import pipeline, preprocessing\n",
    "from sklearn.pipeline import Pipeline, make_pipeline\n",
    "\n",
    "from df_transformers import *"
   ]
  },
  {
   "cell_type": "code",
   "execution_count": 27,
   "metadata": {
    "scrolled": true
   },
   "outputs": [
    {
     "name": "stdout",
     "output_type": "stream",
     "text": [
      "Shape of train data: (600000, 24). Shape of test data: (400000, 23)\n"
     ]
    }
   ],
   "source": [
    "train_data = pd.read_csv(\"data/cleaned_train_data.csv\", index_col=\"id\")\n",
    "test_data = pd.read_csv(\"data/cleaned_test_data.csv\", index_col=\"id\")\n",
    "print(f\"Shape of train data: {train_data.shape}. Shape of test data: {test_data.shape}\")\n",
    "train_size = train_data.shape[0]"
   ]
  },
  {
   "cell_type": "code",
   "execution_count": 28,
   "metadata": {},
   "outputs": [],
   "source": [
    "# Объединим датасеты для обработки\n",
    "data = pd.concat([train_data.drop(['target'], axis=1), test_data])\n",
    "y = train_data['target']"
   ]
  },
  {
   "cell_type": "markdown",
   "metadata": {},
   "source": [
    "### Разделяем признаки по типу"
   ]
  },
  {
   "cell_type": "code",
   "execution_count": 29,
   "metadata": {},
   "outputs": [],
   "source": [
    "# Бинарные\n",
    "bin_features = ['bin_0', 'bin_1', 'bin_2', 'bin_3', 'bin_4']\n",
    "# Категориальные\n",
    "nom_features = ['nom_0', 'nom_1', 'nom_2', 'nom_3', 'nom_4']\n",
    "# Хеш\n",
    "hex_features = ['nom_5', 'nom_6', 'nom_7', 'nom_8', 'nom_9']\n",
    "# Порядковые\n",
    "ord_features = ['ord_0', 'ord_1', 'ord_2', 'ord_3', 'ord_4', 'ord_5']\n",
    "# Цикличные\n",
    "cyc_features = ['day', 'month']"
   ]
  },
  {
   "cell_type": "markdown",
   "metadata": {},
   "source": [
    "Бинарные признаки"
   ]
  },
  {
   "cell_type": "code",
   "execution_count": 30,
   "metadata": {},
   "outputs": [
    {
     "data": {
      "text/html": [
       "<div>\n",
       "<style scoped>\n",
       "    .dataframe tbody tr th:only-of-type {\n",
       "        vertical-align: middle;\n",
       "    }\n",
       "\n",
       "    .dataframe tbody tr th {\n",
       "        vertical-align: top;\n",
       "    }\n",
       "\n",
       "    .dataframe thead th {\n",
       "        text-align: right;\n",
       "    }\n",
       "</style>\n",
       "<table border=\"1\" class=\"dataframe\">\n",
       "  <thead>\n",
       "    <tr style=\"text-align: right;\">\n",
       "      <th></th>\n",
       "      <th>bin_0</th>\n",
       "      <th>bin_1</th>\n",
       "      <th>bin_2</th>\n",
       "      <th>bin_3</th>\n",
       "      <th>bin_4</th>\n",
       "    </tr>\n",
       "    <tr>\n",
       "      <th>id</th>\n",
       "      <th></th>\n",
       "      <th></th>\n",
       "      <th></th>\n",
       "      <th></th>\n",
       "      <th></th>\n",
       "    </tr>\n",
       "  </thead>\n",
       "  <tbody>\n",
       "    <tr>\n",
       "      <td>0</td>\n",
       "      <td>0.0</td>\n",
       "      <td>0.0</td>\n",
       "      <td>0.0</td>\n",
       "      <td>0.0</td>\n",
       "      <td>0.0</td>\n",
       "    </tr>\n",
       "    <tr>\n",
       "      <td>1</td>\n",
       "      <td>1.0</td>\n",
       "      <td>1.0</td>\n",
       "      <td>0.0</td>\n",
       "      <td>0.0</td>\n",
       "      <td>1.0</td>\n",
       "    </tr>\n",
       "    <tr>\n",
       "      <td>2</td>\n",
       "      <td>0.0</td>\n",
       "      <td>1.0</td>\n",
       "      <td>0.0</td>\n",
       "      <td>0.0</td>\n",
       "      <td>0.0</td>\n",
       "    </tr>\n",
       "    <tr>\n",
       "      <td>3</td>\n",
       "      <td>0.0</td>\n",
       "      <td>0.0</td>\n",
       "      <td>0.0</td>\n",
       "      <td>0.0</td>\n",
       "      <td>0.0</td>\n",
       "    </tr>\n",
       "    <tr>\n",
       "      <td>4</td>\n",
       "      <td>0.0</td>\n",
       "      <td>0.0</td>\n",
       "      <td>0.0</td>\n",
       "      <td>1.0</td>\n",
       "      <td>0.0</td>\n",
       "    </tr>\n",
       "  </tbody>\n",
       "</table>\n",
       "</div>"
      ],
      "text/plain": [
       "    bin_0  bin_1  bin_2  bin_3  bin_4\n",
       "id                                   \n",
       "0     0.0    0.0    0.0    0.0    0.0\n",
       "1     1.0    1.0    0.0    0.0    1.0\n",
       "2     0.0    1.0    0.0    0.0    0.0\n",
       "3     0.0    0.0    0.0    0.0    0.0\n",
       "4     0.0    0.0    0.0    1.0    0.0"
      ]
     },
     "execution_count": 30,
     "metadata": {},
     "output_type": "execute_result"
    }
   ],
   "source": [
    "data[bin_features].head()"
   ]
  },
  {
   "cell_type": "code",
   "execution_count": 31,
   "metadata": {},
   "outputs": [
    {
     "name": "stdout",
     "output_type": "stream",
     "text": [
      "<class 'pandas.core.frame.DataFrame'>\n",
      "Int64Index: 1000000 entries, 0 to 999999\n",
      "Data columns (total 23 columns):\n",
      "bin_0    1000000 non-null float64\n",
      "bin_1    1000000 non-null float64\n",
      "bin_2    1000000 non-null float64\n",
      "bin_3    1000000 non-null float64\n",
      "bin_4    1000000 non-null float64\n",
      "nom_0    1000000 non-null object\n",
      "nom_1    1000000 non-null object\n",
      "nom_2    1000000 non-null object\n",
      "nom_3    1000000 non-null object\n",
      "nom_4    1000000 non-null object\n",
      "nom_5    1000000 non-null object\n",
      "nom_6    1000000 non-null object\n",
      "nom_7    1000000 non-null object\n",
      "nom_8    1000000 non-null object\n",
      "nom_9    1000000 non-null object\n",
      "ord_0    1000000 non-null float64\n",
      "ord_1    1000000 non-null object\n",
      "ord_2    1000000 non-null object\n",
      "ord_3    1000000 non-null object\n",
      "ord_4    1000000 non-null object\n",
      "ord_5    1000000 non-null object\n",
      "day      1000000 non-null float64\n",
      "month    1000000 non-null float64\n",
      "dtypes: float64(8), object(15)\n",
      "memory usage: 183.1+ MB\n"
     ]
    }
   ],
   "source": [
    "data.info()"
   ]
  },
  {
   "cell_type": "code",
   "execution_count": 8,
   "metadata": {},
   "outputs": [],
   "source": [
    "# Обработка бинарных признаков\n",
    "bin_pipeline = make_pipeline(\n",
    "    SelectColumnsTransfomer(bin_features),\n",
    "    DataFrameFunctionTransformer(lambda x: x.apply(str)),\n",
    "    ToDummiesTransformer(),\n",
    ")"
   ]
  },
  {
   "cell_type": "code",
   "execution_count": 9,
   "metadata": {},
   "outputs": [],
   "source": [
    "bin_df = bin_pipeline.fit_transform(data)"
   ]
  },
  {
   "cell_type": "code",
   "execution_count": 10,
   "metadata": {},
   "outputs": [
    {
     "data": {
      "text/html": [
       "<div>\n",
       "<style scoped>\n",
       "    .dataframe tbody tr th:only-of-type {\n",
       "        vertical-align: middle;\n",
       "    }\n",
       "\n",
       "    .dataframe tbody tr th {\n",
       "        vertical-align: top;\n",
       "    }\n",
       "\n",
       "    .dataframe thead th {\n",
       "        text-align: right;\n",
       "    }\n",
       "</style>\n",
       "<table border=\"1\" class=\"dataframe\">\n",
       "  <thead>\n",
       "    <tr style=\"text-align: right;\">\n",
       "      <th></th>\n",
       "      <th>bin_0_0.0</th>\n",
       "      <th>bin_0_1.0</th>\n",
       "      <th>bin_0_NAN</th>\n",
       "      <th>bin_1_0.0</th>\n",
       "      <th>bin_1_1.0</th>\n",
       "      <th>bin_1_NAN</th>\n",
       "      <th>bin_2_0.0</th>\n",
       "      <th>bin_2_1.0</th>\n",
       "      <th>bin_2_NAN</th>\n",
       "      <th>bin_3_F</th>\n",
       "      <th>bin_3_NAN</th>\n",
       "      <th>bin_3_T</th>\n",
       "      <th>bin_4_N</th>\n",
       "      <th>bin_4_NAN</th>\n",
       "      <th>bin_4_Y</th>\n",
       "    </tr>\n",
       "    <tr>\n",
       "      <th>id</th>\n",
       "      <th></th>\n",
       "      <th></th>\n",
       "      <th></th>\n",
       "      <th></th>\n",
       "      <th></th>\n",
       "      <th></th>\n",
       "      <th></th>\n",
       "      <th></th>\n",
       "      <th></th>\n",
       "      <th></th>\n",
       "      <th></th>\n",
       "      <th></th>\n",
       "      <th></th>\n",
       "      <th></th>\n",
       "      <th></th>\n",
       "    </tr>\n",
       "  </thead>\n",
       "  <tbody>\n",
       "    <tr>\n",
       "      <td>0</td>\n",
       "      <td>1</td>\n",
       "      <td>0</td>\n",
       "      <td>0</td>\n",
       "      <td>1</td>\n",
       "      <td>0</td>\n",
       "      <td>0</td>\n",
       "      <td>1</td>\n",
       "      <td>0</td>\n",
       "      <td>0</td>\n",
       "      <td>1</td>\n",
       "      <td>0</td>\n",
       "      <td>0</td>\n",
       "      <td>1</td>\n",
       "      <td>0</td>\n",
       "      <td>0</td>\n",
       "    </tr>\n",
       "    <tr>\n",
       "      <td>1</td>\n",
       "      <td>0</td>\n",
       "      <td>1</td>\n",
       "      <td>0</td>\n",
       "      <td>0</td>\n",
       "      <td>1</td>\n",
       "      <td>0</td>\n",
       "      <td>1</td>\n",
       "      <td>0</td>\n",
       "      <td>0</td>\n",
       "      <td>1</td>\n",
       "      <td>0</td>\n",
       "      <td>0</td>\n",
       "      <td>0</td>\n",
       "      <td>0</td>\n",
       "      <td>1</td>\n",
       "    </tr>\n",
       "    <tr>\n",
       "      <td>2</td>\n",
       "      <td>1</td>\n",
       "      <td>0</td>\n",
       "      <td>0</td>\n",
       "      <td>0</td>\n",
       "      <td>1</td>\n",
       "      <td>0</td>\n",
       "      <td>1</td>\n",
       "      <td>0</td>\n",
       "      <td>0</td>\n",
       "      <td>1</td>\n",
       "      <td>0</td>\n",
       "      <td>0</td>\n",
       "      <td>1</td>\n",
       "      <td>0</td>\n",
       "      <td>0</td>\n",
       "    </tr>\n",
       "    <tr>\n",
       "      <td>3</td>\n",
       "      <td>0</td>\n",
       "      <td>0</td>\n",
       "      <td>1</td>\n",
       "      <td>1</td>\n",
       "      <td>0</td>\n",
       "      <td>0</td>\n",
       "      <td>1</td>\n",
       "      <td>0</td>\n",
       "      <td>0</td>\n",
       "      <td>1</td>\n",
       "      <td>0</td>\n",
       "      <td>0</td>\n",
       "      <td>1</td>\n",
       "      <td>0</td>\n",
       "      <td>0</td>\n",
       "    </tr>\n",
       "    <tr>\n",
       "      <td>4</td>\n",
       "      <td>1</td>\n",
       "      <td>0</td>\n",
       "      <td>0</td>\n",
       "      <td>0</td>\n",
       "      <td>0</td>\n",
       "      <td>1</td>\n",
       "      <td>1</td>\n",
       "      <td>0</td>\n",
       "      <td>0</td>\n",
       "      <td>0</td>\n",
       "      <td>0</td>\n",
       "      <td>1</td>\n",
       "      <td>1</td>\n",
       "      <td>0</td>\n",
       "      <td>0</td>\n",
       "    </tr>\n",
       "  </tbody>\n",
       "</table>\n",
       "</div>"
      ],
      "text/plain": [
       "    bin_0_0.0  bin_0_1.0  bin_0_NAN  bin_1_0.0  bin_1_1.0  bin_1_NAN  \\\n",
       "id                                                                     \n",
       "0           1          0          0          1          0          0   \n",
       "1           0          1          0          0          1          0   \n",
       "2           1          0          0          0          1          0   \n",
       "3           0          0          1          1          0          0   \n",
       "4           1          0          0          0          0          1   \n",
       "\n",
       "    bin_2_0.0  bin_2_1.0  bin_2_NAN  bin_3_F  bin_3_NAN  bin_3_T  bin_4_N  \\\n",
       "id                                                                          \n",
       "0           1          0          0        1          0        0        1   \n",
       "1           1          0          0        1          0        0        0   \n",
       "2           1          0          0        1          0        0        1   \n",
       "3           1          0          0        1          0        0        1   \n",
       "4           1          0          0        0          0        1        1   \n",
       "\n",
       "    bin_4_NAN  bin_4_Y  \n",
       "id                      \n",
       "0           0        0  \n",
       "1           0        1  \n",
       "2           0        0  \n",
       "3           0        0  \n",
       "4           0        0  "
      ]
     },
     "execution_count": 10,
     "metadata": {},
     "output_type": "execute_result"
    }
   ],
   "source": [
    "bin_df.head()"
   ]
  },
  {
   "cell_type": "code",
   "execution_count": 14,
   "metadata": {},
   "outputs": [],
   "source": [
    "from sklearn.preprocessing import LabelEncoder\n",
    "\n",
    "bin_l = pd.DataFrame()\n",
    "label = LabelEncoder()\n",
    "\n",
    "for col in bin_features:\n",
    "    if(data[col].dtype=='object'):\n",
    "        bin_l[col] = label.fit_transform(data[col])\n",
    "    else:\n",
    "        bin_l[col] = data[col]"
   ]
  },
  {
   "cell_type": "code",
   "execution_count": 15,
   "metadata": {},
   "outputs": [
    {
     "data": {
      "text/html": [
       "<div>\n",
       "<style scoped>\n",
       "    .dataframe tbody tr th:only-of-type {\n",
       "        vertical-align: middle;\n",
       "    }\n",
       "\n",
       "    .dataframe tbody tr th {\n",
       "        vertical-align: top;\n",
       "    }\n",
       "\n",
       "    .dataframe thead th {\n",
       "        text-align: right;\n",
       "    }\n",
       "</style>\n",
       "<table border=\"1\" class=\"dataframe\">\n",
       "  <thead>\n",
       "    <tr style=\"text-align: right;\">\n",
       "      <th></th>\n",
       "      <th>bin_0</th>\n",
       "      <th>bin_1</th>\n",
       "      <th>bin_2</th>\n",
       "      <th>bin_3</th>\n",
       "      <th>bin_4</th>\n",
       "    </tr>\n",
       "  </thead>\n",
       "  <tbody>\n",
       "    <tr>\n",
       "      <td>0</td>\n",
       "      <td>0</td>\n",
       "      <td>0</td>\n",
       "      <td>0</td>\n",
       "      <td>0</td>\n",
       "      <td>0</td>\n",
       "    </tr>\n",
       "    <tr>\n",
       "      <td>1</td>\n",
       "      <td>1</td>\n",
       "      <td>1</td>\n",
       "      <td>0</td>\n",
       "      <td>0</td>\n",
       "      <td>2</td>\n",
       "    </tr>\n",
       "    <tr>\n",
       "      <td>2</td>\n",
       "      <td>0</td>\n",
       "      <td>1</td>\n",
       "      <td>0</td>\n",
       "      <td>0</td>\n",
       "      <td>0</td>\n",
       "    </tr>\n",
       "    <tr>\n",
       "      <td>3</td>\n",
       "      <td>2</td>\n",
       "      <td>0</td>\n",
       "      <td>0</td>\n",
       "      <td>0</td>\n",
       "      <td>0</td>\n",
       "    </tr>\n",
       "    <tr>\n",
       "      <td>4</td>\n",
       "      <td>0</td>\n",
       "      <td>2</td>\n",
       "      <td>0</td>\n",
       "      <td>2</td>\n",
       "      <td>0</td>\n",
       "    </tr>\n",
       "  </tbody>\n",
       "</table>\n",
       "</div>"
      ],
      "text/plain": [
       "   bin_0  bin_1  bin_2  bin_3  bin_4\n",
       "0      0      0      0      0      0\n",
       "1      1      1      0      0      2\n",
       "2      0      1      0      0      0\n",
       "3      2      0      0      0      0\n",
       "4      0      2      0      2      0"
      ]
     },
     "execution_count": 15,
     "metadata": {},
     "output_type": "execute_result"
    }
   ],
   "source": [
    "bin_l.head()"
   ]
  },
  {
   "cell_type": "markdown",
   "metadata": {},
   "source": [
    "### Собираем пайплайн"
   ]
  },
  {
   "cell_type": "code",
   "execution_count": 5,
   "metadata": {},
   "outputs": [],
   "source": [
    "# Обработка числовых признаков\n",
    "# num_pipeline = make_pipeline(\n",
    "#     SelectColumnsTransfomer(num_features),\n",
    "#     #preprocessing.StandardScaler(with_mean = 0)\n",
    "# )\n",
    "\n",
    "# Обработка бинарных признаков\n",
    "bin_pipeline = make_pipeline(\n",
    "    SelectColumnsTransfomer(bin_features),\n",
    "    DataFrameFunctionTransformer(lambda x: x.apply(str)),\n",
    "    ToDummiesTransformer(),\n",
    ")\n",
    "\n",
    "# Обработка категориальных признаков\n",
    "nom_pipeline = make_pipeline(\n",
    "    SelectColumnsTransfomer(nom_features),\n",
    "    DataFrameFunctionTransformer(lambda x: x.apply(str)),\n",
    "    # Разобраться что за тип данных category в pd.DataFrame и что такое object_levels\n",
    "    #DataFrameFunctionTransformer(lambda x:x.astype('category', categories=object_levels)),\n",
    "    ToDummiesTransformer(),\n",
    ")\n",
    "\n",
    "# Обработка порядковых признаков\n",
    "ord_pipeline = make_pipeline(\n",
    "    SelectColumnsTransfomer(ord_features),\n",
    "    DataFrameFunctionTransformer(lambda x: x.apply(str)),\n",
    "    ToDummiesTransformer(),\n",
    ")\n",
    "\n",
    "# Обединяем обработанные данные\n",
    "preprocessing_features = DataFrameFeatureUnion([bin_pipeline, nom_pipeline, ord_pipeline])"
   ]
  },
  {
   "cell_type": "code",
   "execution_count": 1,
   "metadata": {},
   "outputs": [],
   "source": [
    "# prprd_data = preprocessing_features.fit_transform(data)"
   ]
  },
  {
   "cell_type": "code",
   "execution_count": null,
   "metadata": {},
   "outputs": [],
   "source": [
    "preprocessed_train_data = prprd_data.iloc[:train_size, :]\n",
    "preprocessed_test_data = prprd_data.iloc[train_size:, :]"
   ]
  },
  {
   "cell_type": "code",
   "execution_count": null,
   "metadata": {
    "scrolled": true
   },
   "outputs": [],
   "source": [
    "preprocessed_train_data['target'] = y"
   ]
  },
  {
   "cell_type": "markdown",
   "metadata": {},
   "source": [
    "### Обрабатываем и сохраняем данные"
   ]
  },
  {
   "cell_type": "code",
   "execution_count": null,
   "metadata": {},
   "outputs": [],
   "source": [
    "preprocessed_train_data.to_csv('data/preprocessed_train_data.csv', header=True)\n",
    "preprocessed_test_data.to_csv('data/preprocessed_test_data.csv', header=True)"
   ]
  },
  {
   "cell_type": "code",
   "execution_count": null,
   "metadata": {},
   "outputs": [],
   "source": []
  },
  {
   "cell_type": "code",
   "execution_count": null,
   "metadata": {},
   "outputs": [],
   "source": []
  },
  {
   "cell_type": "code",
   "execution_count": 18,
   "metadata": {},
   "outputs": [],
   "source": [
    "# Избранные ноутбуки из предыдущего соревнования\n",
    "# https://www.kaggle.com/shahules/an-overview-of-encoding-techniques\n",
    "# https://www.kaggle.com/kabure/eda-feat-engineering-encode-conquer\n",
    "# https://www.kaggle.com/adaubas/2nd-place-solution-categorical-fe-callenge\n",
    "# https://www.kaggle.com/abhishek/entity-embeddings-to-handle-categories\n",
    "# https://www.kaggle.com/peterhurford/why-not-logistic-regression\n",
    "\n",
    "# Посмотреть по текущему соревнованию\n",
    "# https://www.kaggle.com/drcapa/categorical-feature-engineering-2-xgb\n",
    "# https://www.kaggle.com/vikassingh1996/don-t-underestimate-the-power-of-a-logistic-reg\n",
    "\n",
    "# https://habr.com/ru/company/ods/blog/326418/#label-encoding"
   ]
  }
 ],
 "metadata": {
  "kernelspec": {
   "display_name": "Python 3",
   "language": "python",
   "name": "python3"
  },
  "language_info": {
   "codemirror_mode": {
    "name": "ipython",
    "version": 3
   },
   "file_extension": ".py",
   "mimetype": "text/x-python",
   "name": "python",
   "nbconvert_exporter": "python",
   "pygments_lexer": "ipython3",
   "version": "3.7.4"
  }
 },
 "nbformat": 4,
 "nbformat_minor": 2
}
